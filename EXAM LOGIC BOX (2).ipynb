{
 "cells": [
  {
   "cell_type": "code",
   "execution_count": null,
   "metadata": {
    "colab": {
     "base_uri": "https://localhost:8080/"
    },
    "executionInfo": {
     "elapsed": 25863,
     "status": "ok",
     "timestamp": 1738835223587,
     "user": {
      "displayName": "jignesh zala",
      "userId": "13061816877489118021"
     },
     "user_tz": 300
    },
    "id": "TR3LH-8Jl2lS",
    "outputId": "877b786c-1f7a-44fb-d3be-def140eafe99"
   },
   "outputs": [],
   "source": [
    "while True:\n",
    "  print(\"\\nMenu option\")\n",
    "  print(\"1.generate a pattern\")\n",
    "  print(\"2.anlyze a range of number\")\n",
    "  print(\"3.Exit\")\n",
    "  choice = input(\"Enter your choice:\")\n",
    "  if choice == \"1\":\n",
    "    choice = input(\"choose a pattern type 1 2 3\")\n",
    "    print(\"right-angled triangle\")\n",
    "    print(\"pyramid\")\n",
    "    print(\"left-angle triangle\")\n",
    "\n",
    "    row = int(input(\"Enter the number of rows:\"))\n",
    "\n",
    "    if row > 0:\n",
    "      for i in range(1, row +1):\n",
    "       print(\"*\" * i)\n",
    "    else:\n",
    "      print(\"Invalid number of rows\")\n",
    "\n",
    "  elif choice == \"2\":\n",
    "\n",
    "        start = int(input(\"Enter the starting number:\"))\n",
    "        end = int(input(\"Enter the ending number:\"))\n",
    "\n",
    "        if start > end:\n",
    "          print(\"Invalid range\")\n",
    "        else:\n",
    "          odd_number = [num for num in range(start, end + 1) if num % 2 != 0]\n",
    "          even_number = [num for num in range(start, end + 1) if num % 2 == 0]\n",
    "          total_number = sum(range(start,end +1))\n",
    "\n",
    "          print(\"odd_number\",odd_number)\n",
    "          print(\"even_number\",even_number)\n",
    "          print(\"total_number\",total_number)\n",
    "\n",
    "  elif choice == \"3\":\n",
    "    print(\"Exiting the program. goodbye!\")\n",
    "    break\n",
    "  else:\n",
    "    print(\"Invalid choice\")\n",
    "\n",
    "\n",
    "\n",
    "\n"
   ]
  },
  {
   "cell_type": "markdown",
   "metadata": {
    "id": "hsicQHO5A9Ub"
   },
   "source": []
  },
  {
   "cell_type": "code",
   "execution_count": null,
   "metadata": {
    "id": "wLLsEPug7BnD"
   },
   "outputs": [],
   "source": []
  }
 ],
 "metadata": {
  "colab": {
   "authorship_tag": "ABX9TyNGtOusYgnoZC2Vo2r0AbJU",
   "provenance": []
  },
  "kernelspec": {
   "display_name": "Python 3",
   "name": "python3"
  },
  "language_info": {
   "codemirror_mode": {
    "name": "ipython",
    "version": 3
   },
   "file_extension": ".py",
   "mimetype": "text/x-python",
   "name": "python",
   "nbconvert_exporter": "python",
   "pygments_lexer": "ipython3",
   "version": "3.13.1"
  }
 },
 "nbformat": 4,
 "nbformat_minor": 0
}
